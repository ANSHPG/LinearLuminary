{
  "nbformat": 4,
  "nbformat_minor": 0,
  "metadata": {
    "colab": {
      "provenance": [],
      "gpuType": "T4"
    },
    "kernelspec": {
      "name": "python3",
      "display_name": "Python 3"
    },
    "language_info": {
      "name": "python"
    },
    "accelerator": "GPU"
  },
  "cells": [
    {
      "cell_type": "code",
      "execution_count": 3,
      "metadata": {
        "id": "Q8IebZ_gnl3z"
      },
      "outputs": [],
      "source": [
        "import pandas as pd\n",
        "import numpy  as np\n",
        "import matplotlib.pyplot as plt\n",
        "from mpl_toolkits import mplot3d\n",
        "import seaborn as sns"
      ]
    },
    {
      "cell_type": "markdown",
      "source": [
        "# DATA PROCESSING"
      ],
      "metadata": {
        "id": "FtCZkuNwvsiR"
      }
    },
    {
      "cell_type": "code",
      "source": [
        "data = pd.read_csv('BHP.csv')"
      ],
      "metadata": {
        "id": "yQJmLzHGn9To"
      },
      "execution_count": 4,
      "outputs": []
    },
    {
      "cell_type": "code",
      "source": [
        "data.head()"
      ],
      "metadata": {
        "colab": {
          "base_uri": "https://localhost:8080/",
          "height": 206
        },
        "id": "7wzZcrLhoDIW",
        "outputId": "2da2ee8d-7d83-4177-8862-9c6a42d0fe3b"
      },
      "execution_count": 5,
      "outputs": [
        {
          "output_type": "execute_result",
          "data": {
            "text/plain": [
              "              area_type   availability                  location       size  \\\n",
              "0  Super built-up  Area         19-Dec  Electronic City Phase II      2 BHK   \n",
              "1            Plot  Area  Ready To Move          Chikka Tirupathi  4 Bedroom   \n",
              "2        Built-up  Area  Ready To Move               Uttarahalli      3 BHK   \n",
              "3  Super built-up  Area  Ready To Move        Lingadheeranahalli      3 BHK   \n",
              "4  Super built-up  Area  Ready To Move                  Kothanur      2 BHK   \n",
              "\n",
              "   society total_sqft  bath  balcony   price  \n",
              "0  Coomee        1056   2.0      1.0   39.07  \n",
              "1  Theanmp       2600   5.0      3.0  120.00  \n",
              "2      NaN       1440   2.0      3.0   62.00  \n",
              "3  Soiewre       1521   3.0      1.0   95.00  \n",
              "4      NaN       1200   2.0      1.0   51.00  "
            ],
            "text/html": [
              "\n",
              "  <div id=\"df-d9c09a51-89e5-45e1-8dc2-5ab8853a6142\" class=\"colab-df-container\">\n",
              "    <div>\n",
              "<style scoped>\n",
              "    .dataframe tbody tr th:only-of-type {\n",
              "        vertical-align: middle;\n",
              "    }\n",
              "\n",
              "    .dataframe tbody tr th {\n",
              "        vertical-align: top;\n",
              "    }\n",
              "\n",
              "    .dataframe thead th {\n",
              "        text-align: right;\n",
              "    }\n",
              "</style>\n",
              "<table border=\"1\" class=\"dataframe\">\n",
              "  <thead>\n",
              "    <tr style=\"text-align: right;\">\n",
              "      <th></th>\n",
              "      <th>area_type</th>\n",
              "      <th>availability</th>\n",
              "      <th>location</th>\n",
              "      <th>size</th>\n",
              "      <th>society</th>\n",
              "      <th>total_sqft</th>\n",
              "      <th>bath</th>\n",
              "      <th>balcony</th>\n",
              "      <th>price</th>\n",
              "    </tr>\n",
              "  </thead>\n",
              "  <tbody>\n",
              "    <tr>\n",
              "      <th>0</th>\n",
              "      <td>Super built-up  Area</td>\n",
              "      <td>19-Dec</td>\n",
              "      <td>Electronic City Phase II</td>\n",
              "      <td>2 BHK</td>\n",
              "      <td>Coomee</td>\n",
              "      <td>1056</td>\n",
              "      <td>2.0</td>\n",
              "      <td>1.0</td>\n",
              "      <td>39.07</td>\n",
              "    </tr>\n",
              "    <tr>\n",
              "      <th>1</th>\n",
              "      <td>Plot  Area</td>\n",
              "      <td>Ready To Move</td>\n",
              "      <td>Chikka Tirupathi</td>\n",
              "      <td>4 Bedroom</td>\n",
              "      <td>Theanmp</td>\n",
              "      <td>2600</td>\n",
              "      <td>5.0</td>\n",
              "      <td>3.0</td>\n",
              "      <td>120.00</td>\n",
              "    </tr>\n",
              "    <tr>\n",
              "      <th>2</th>\n",
              "      <td>Built-up  Area</td>\n",
              "      <td>Ready To Move</td>\n",
              "      <td>Uttarahalli</td>\n",
              "      <td>3 BHK</td>\n",
              "      <td>NaN</td>\n",
              "      <td>1440</td>\n",
              "      <td>2.0</td>\n",
              "      <td>3.0</td>\n",
              "      <td>62.00</td>\n",
              "    </tr>\n",
              "    <tr>\n",
              "      <th>3</th>\n",
              "      <td>Super built-up  Area</td>\n",
              "      <td>Ready To Move</td>\n",
              "      <td>Lingadheeranahalli</td>\n",
              "      <td>3 BHK</td>\n",
              "      <td>Soiewre</td>\n",
              "      <td>1521</td>\n",
              "      <td>3.0</td>\n",
              "      <td>1.0</td>\n",
              "      <td>95.00</td>\n",
              "    </tr>\n",
              "    <tr>\n",
              "      <th>4</th>\n",
              "      <td>Super built-up  Area</td>\n",
              "      <td>Ready To Move</td>\n",
              "      <td>Kothanur</td>\n",
              "      <td>2 BHK</td>\n",
              "      <td>NaN</td>\n",
              "      <td>1200</td>\n",
              "      <td>2.0</td>\n",
              "      <td>1.0</td>\n",
              "      <td>51.00</td>\n",
              "    </tr>\n",
              "  </tbody>\n",
              "</table>\n",
              "</div>\n",
              "    <div class=\"colab-df-buttons\">\n",
              "\n",
              "  <div class=\"colab-df-container\">\n",
              "    <button class=\"colab-df-convert\" onclick=\"convertToInteractive('df-d9c09a51-89e5-45e1-8dc2-5ab8853a6142')\"\n",
              "            title=\"Convert this dataframe to an interactive table.\"\n",
              "            style=\"display:none;\">\n",
              "\n",
              "  <svg xmlns=\"http://www.w3.org/2000/svg\" height=\"24px\" viewBox=\"0 -960 960 960\">\n",
              "    <path d=\"M120-120v-720h720v720H120Zm60-500h600v-160H180v160Zm220 220h160v-160H400v160Zm0 220h160v-160H400v160ZM180-400h160v-160H180v160Zm440 0h160v-160H620v160ZM180-180h160v-160H180v160Zm440 0h160v-160H620v160Z\"/>\n",
              "  </svg>\n",
              "    </button>\n",
              "\n",
              "  <style>\n",
              "    .colab-df-container {\n",
              "      display:flex;\n",
              "      gap: 12px;\n",
              "    }\n",
              "\n",
              "    .colab-df-convert {\n",
              "      background-color: #E8F0FE;\n",
              "      border: none;\n",
              "      border-radius: 50%;\n",
              "      cursor: pointer;\n",
              "      display: none;\n",
              "      fill: #1967D2;\n",
              "      height: 32px;\n",
              "      padding: 0 0 0 0;\n",
              "      width: 32px;\n",
              "    }\n",
              "\n",
              "    .colab-df-convert:hover {\n",
              "      background-color: #E2EBFA;\n",
              "      box-shadow: 0px 1px 2px rgba(60, 64, 67, 0.3), 0px 1px 3px 1px rgba(60, 64, 67, 0.15);\n",
              "      fill: #174EA6;\n",
              "    }\n",
              "\n",
              "    .colab-df-buttons div {\n",
              "      margin-bottom: 4px;\n",
              "    }\n",
              "\n",
              "    [theme=dark] .colab-df-convert {\n",
              "      background-color: #3B4455;\n",
              "      fill: #D2E3FC;\n",
              "    }\n",
              "\n",
              "    [theme=dark] .colab-df-convert:hover {\n",
              "      background-color: #434B5C;\n",
              "      box-shadow: 0px 1px 3px 1px rgba(0, 0, 0, 0.15);\n",
              "      filter: drop-shadow(0px 1px 2px rgba(0, 0, 0, 0.3));\n",
              "      fill: #FFFFFF;\n",
              "    }\n",
              "  </style>\n",
              "\n",
              "    <script>\n",
              "      const buttonEl =\n",
              "        document.querySelector('#df-d9c09a51-89e5-45e1-8dc2-5ab8853a6142 button.colab-df-convert');\n",
              "      buttonEl.style.display =\n",
              "        google.colab.kernel.accessAllowed ? 'block' : 'none';\n",
              "\n",
              "      async function convertToInteractive(key) {\n",
              "        const element = document.querySelector('#df-d9c09a51-89e5-45e1-8dc2-5ab8853a6142');\n",
              "        const dataTable =\n",
              "          await google.colab.kernel.invokeFunction('convertToInteractive',\n",
              "                                                    [key], {});\n",
              "        if (!dataTable) return;\n",
              "\n",
              "        const docLinkHtml = 'Like what you see? Visit the ' +\n",
              "          '<a target=\"_blank\" href=https://colab.research.google.com/notebooks/data_table.ipynb>data table notebook</a>'\n",
              "          + ' to learn more about interactive tables.';\n",
              "        element.innerHTML = '';\n",
              "        dataTable['output_type'] = 'display_data';\n",
              "        await google.colab.output.renderOutput(dataTable, element);\n",
              "        const docLink = document.createElement('div');\n",
              "        docLink.innerHTML = docLinkHtml;\n",
              "        element.appendChild(docLink);\n",
              "      }\n",
              "    </script>\n",
              "  </div>\n",
              "\n",
              "\n",
              "<div id=\"df-35a1bd7a-e319-4d73-b078-0a1276fe4be1\">\n",
              "  <button class=\"colab-df-quickchart\" onclick=\"quickchart('df-35a1bd7a-e319-4d73-b078-0a1276fe4be1')\"\n",
              "            title=\"Suggest charts\"\n",
              "            style=\"display:none;\">\n",
              "\n",
              "<svg xmlns=\"http://www.w3.org/2000/svg\" height=\"24px\"viewBox=\"0 0 24 24\"\n",
              "     width=\"24px\">\n",
              "    <g>\n",
              "        <path d=\"M19 3H5c-1.1 0-2 .9-2 2v14c0 1.1.9 2 2 2h14c1.1 0 2-.9 2-2V5c0-1.1-.9-2-2-2zM9 17H7v-7h2v7zm4 0h-2V7h2v10zm4 0h-2v-4h2v4z\"/>\n",
              "    </g>\n",
              "</svg>\n",
              "  </button>\n",
              "\n",
              "<style>\n",
              "  .colab-df-quickchart {\n",
              "      --bg-color: #E8F0FE;\n",
              "      --fill-color: #1967D2;\n",
              "      --hover-bg-color: #E2EBFA;\n",
              "      --hover-fill-color: #174EA6;\n",
              "      --disabled-fill-color: #AAA;\n",
              "      --disabled-bg-color: #DDD;\n",
              "  }\n",
              "\n",
              "  [theme=dark] .colab-df-quickchart {\n",
              "      --bg-color: #3B4455;\n",
              "      --fill-color: #D2E3FC;\n",
              "      --hover-bg-color: #434B5C;\n",
              "      --hover-fill-color: #FFFFFF;\n",
              "      --disabled-bg-color: #3B4455;\n",
              "      --disabled-fill-color: #666;\n",
              "  }\n",
              "\n",
              "  .colab-df-quickchart {\n",
              "    background-color: var(--bg-color);\n",
              "    border: none;\n",
              "    border-radius: 50%;\n",
              "    cursor: pointer;\n",
              "    display: none;\n",
              "    fill: var(--fill-color);\n",
              "    height: 32px;\n",
              "    padding: 0;\n",
              "    width: 32px;\n",
              "  }\n",
              "\n",
              "  .colab-df-quickchart:hover {\n",
              "    background-color: var(--hover-bg-color);\n",
              "    box-shadow: 0 1px 2px rgba(60, 64, 67, 0.3), 0 1px 3px 1px rgba(60, 64, 67, 0.15);\n",
              "    fill: var(--button-hover-fill-color);\n",
              "  }\n",
              "\n",
              "  .colab-df-quickchart-complete:disabled,\n",
              "  .colab-df-quickchart-complete:disabled:hover {\n",
              "    background-color: var(--disabled-bg-color);\n",
              "    fill: var(--disabled-fill-color);\n",
              "    box-shadow: none;\n",
              "  }\n",
              "\n",
              "  .colab-df-spinner {\n",
              "    border: 2px solid var(--fill-color);\n",
              "    border-color: transparent;\n",
              "    border-bottom-color: var(--fill-color);\n",
              "    animation:\n",
              "      spin 1s steps(1) infinite;\n",
              "  }\n",
              "\n",
              "  @keyframes spin {\n",
              "    0% {\n",
              "      border-color: transparent;\n",
              "      border-bottom-color: var(--fill-color);\n",
              "      border-left-color: var(--fill-color);\n",
              "    }\n",
              "    20% {\n",
              "      border-color: transparent;\n",
              "      border-left-color: var(--fill-color);\n",
              "      border-top-color: var(--fill-color);\n",
              "    }\n",
              "    30% {\n",
              "      border-color: transparent;\n",
              "      border-left-color: var(--fill-color);\n",
              "      border-top-color: var(--fill-color);\n",
              "      border-right-color: var(--fill-color);\n",
              "    }\n",
              "    40% {\n",
              "      border-color: transparent;\n",
              "      border-right-color: var(--fill-color);\n",
              "      border-top-color: var(--fill-color);\n",
              "    }\n",
              "    60% {\n",
              "      border-color: transparent;\n",
              "      border-right-color: var(--fill-color);\n",
              "    }\n",
              "    80% {\n",
              "      border-color: transparent;\n",
              "      border-right-color: var(--fill-color);\n",
              "      border-bottom-color: var(--fill-color);\n",
              "    }\n",
              "    90% {\n",
              "      border-color: transparent;\n",
              "      border-bottom-color: var(--fill-color);\n",
              "    }\n",
              "  }\n",
              "</style>\n",
              "\n",
              "  <script>\n",
              "    async function quickchart(key) {\n",
              "      const quickchartButtonEl =\n",
              "        document.querySelector('#' + key + ' button');\n",
              "      quickchartButtonEl.disabled = true;  // To prevent multiple clicks.\n",
              "      quickchartButtonEl.classList.add('colab-df-spinner');\n",
              "      try {\n",
              "        const charts = await google.colab.kernel.invokeFunction(\n",
              "            'suggestCharts', [key], {});\n",
              "      } catch (error) {\n",
              "        console.error('Error during call to suggestCharts:', error);\n",
              "      }\n",
              "      quickchartButtonEl.classList.remove('colab-df-spinner');\n",
              "      quickchartButtonEl.classList.add('colab-df-quickchart-complete');\n",
              "    }\n",
              "    (() => {\n",
              "      let quickchartButtonEl =\n",
              "        document.querySelector('#df-35a1bd7a-e319-4d73-b078-0a1276fe4be1 button');\n",
              "      quickchartButtonEl.style.display =\n",
              "        google.colab.kernel.accessAllowed ? 'block' : 'none';\n",
              "    })();\n",
              "  </script>\n",
              "</div>\n",
              "\n",
              "    </div>\n",
              "  </div>\n"
            ],
            "application/vnd.google.colaboratory.intrinsic+json": {
              "type": "dataframe",
              "variable_name": "data",
              "summary": "{\n  \"name\": \"data\",\n  \"rows\": 13320,\n  \"fields\": [\n    {\n      \"column\": \"area_type\",\n      \"properties\": {\n        \"dtype\": \"category\",\n        \"num_unique_values\": 4,\n        \"samples\": [\n          \"Plot  Area\",\n          \"Carpet  Area\",\n          \"Super built-up  Area\"\n        ],\n        \"semantic_type\": \"\",\n        \"description\": \"\"\n      }\n    },\n    {\n      \"column\": \"availability\",\n      \"properties\": {\n        \"dtype\": \"category\",\n        \"num_unique_values\": 81,\n        \"samples\": [\n          \"18-Sep\",\n          \"19-Dec\",\n          \"22-Jan\"\n        ],\n        \"semantic_type\": \"\",\n        \"description\": \"\"\n      }\n    },\n    {\n      \"column\": \"location\",\n      \"properties\": {\n        \"dtype\": \"category\",\n        \"num_unique_values\": 1305,\n        \"samples\": [\n          \"Ashok Nagar\",\n          \"Maruthi Nagar\",\n          \"CQAL Layout\"\n        ],\n        \"semantic_type\": \"\",\n        \"description\": \"\"\n      }\n    },\n    {\n      \"column\": \"size\",\n      \"properties\": {\n        \"dtype\": \"category\",\n        \"num_unique_values\": 31,\n        \"samples\": [\n          \"8 BHK\",\n          \"5 Bedroom\",\n          \"19 BHK\"\n        ],\n        \"semantic_type\": \"\",\n        \"description\": \"\"\n      }\n    },\n    {\n      \"column\": \"society\",\n      \"properties\": {\n        \"dtype\": \"category\",\n        \"num_unique_values\": 2688,\n        \"samples\": [\n          \"DStra S\",\n          \"Aples M\",\n          \"JahanSa\"\n        ],\n        \"semantic_type\": \"\",\n        \"description\": \"\"\n      }\n    },\n    {\n      \"column\": \"total_sqft\",\n      \"properties\": {\n        \"dtype\": \"category\",\n        \"num_unique_values\": 2117,\n        \"samples\": [\n          \"5270\",\n          \"832\",\n          \"1145\"\n        ],\n        \"semantic_type\": \"\",\n        \"description\": \"\"\n      }\n    },\n    {\n      \"column\": \"bath\",\n      \"properties\": {\n        \"dtype\": \"number\",\n        \"std\": 1.3414580781243859,\n        \"min\": 1.0,\n        \"max\": 40.0,\n        \"num_unique_values\": 19,\n        \"samples\": [\n          2.0,\n          1.0,\n          14.0\n        ],\n        \"semantic_type\": \"\",\n        \"description\": \"\"\n      }\n    },\n    {\n      \"column\": \"balcony\",\n      \"properties\": {\n        \"dtype\": \"number\",\n        \"std\": 0.8172634299202003,\n        \"min\": 0.0,\n        \"max\": 3.0,\n        \"num_unique_values\": 4,\n        \"samples\": [\n          3.0,\n          0.0,\n          1.0\n        ],\n        \"semantic_type\": \"\",\n        \"description\": \"\"\n      }\n    },\n    {\n      \"column\": \"price\",\n      \"properties\": {\n        \"dtype\": \"number\",\n        \"std\": 148.97167376967403,\n        \"min\": 8.0,\n        \"max\": 3600.0,\n        \"num_unique_values\": 1994,\n        \"samples\": [\n          93.25,\n          33.645,\n          62.55\n        ],\n        \"semantic_type\": \"\",\n        \"description\": \"\"\n      }\n    }\n  ]\n}"
            }
          },
          "metadata": {},
          "execution_count": 5
        }
      ]
    },
    {
      "cell_type": "code",
      "source": [
        "feature = 'location'"
      ],
      "metadata": {
        "id": "3N8auL8SCvSz"
      },
      "execution_count": 6,
      "outputs": []
    },
    {
      "cell_type": "code",
      "source": [
        "data[feature].value_counts()"
      ],
      "metadata": {
        "id": "EQcnAWnMtGSK",
        "colab": {
          "base_uri": "https://localhost:8080/"
        },
        "outputId": "20b9cd99-ef39-4c60-a9b4-adaa92831a09"
      },
      "execution_count": 7,
      "outputs": [
        {
          "output_type": "execute_result",
          "data": {
            "text/plain": [
              "location\n",
              "Whitefield                        540\n",
              "Sarjapur  Road                    399\n",
              "Electronic City                   302\n",
              "Kanakpura Road                    273\n",
              "Thanisandra                       234\n",
              "                                 ... \n",
              "Bapuji Layout                       1\n",
              "1st Stage Radha Krishna Layout      1\n",
              "BEML Layout 5th stage               1\n",
              "singapura paradise                  1\n",
              "Abshot Layout                       1\n",
              "Name: count, Length: 1305, dtype: int64"
            ]
          },
          "metadata": {},
          "execution_count": 7
        }
      ]
    },
    {
      "cell_type": "code",
      "source": [
        "location = data[feature].value_counts().index[0]"
      ],
      "metadata": {
        "id": "T2dGCJdOCMlP"
      },
      "execution_count": 8,
      "outputs": []
    },
    {
      "cell_type": "code",
      "source": [
        "data_location = data[(data[feature]==location) & (data['area_type']=='Super built-up  Area')]"
      ],
      "metadata": {
        "id": "wwgMoa2xt2Ct"
      },
      "execution_count": 9,
      "outputs": []
    },
    {
      "cell_type": "code",
      "source": [
        "data_location.dropna(inplace=True)"
      ],
      "metadata": {
        "colab": {
          "base_uri": "https://localhost:8080/"
        },
        "id": "lJen27avJ3FB",
        "outputId": "ca5eb337-be63-4c00-fb21-bdd566f9e3cb"
      },
      "execution_count": 10,
      "outputs": [
        {
          "output_type": "stream",
          "name": "stderr",
          "text": [
            "<ipython-input-10-94f5e244d894>:1: SettingWithCopyWarning: \n",
            "A value is trying to be set on a copy of a slice from a DataFrame\n",
            "\n",
            "See the caveats in the documentation: https://pandas.pydata.org/pandas-docs/stable/user_guide/indexing.html#returning-a-view-versus-a-copy\n",
            "  data_location.dropna(inplace=True)\n"
          ]
        }
      ]
    },
    {
      "cell_type": "code",
      "source": [
        "data_location.shape"
      ],
      "metadata": {
        "colab": {
          "base_uri": "https://localhost:8080/"
        },
        "id": "l2qhSPY3uQyf",
        "outputId": "c856734b-764e-4596-e637-b2b38917ddc5"
      },
      "execution_count": 11,
      "outputs": [
        {
          "output_type": "execute_result",
          "data": {
            "text/plain": [
              "(319, 9)"
            ]
          },
          "metadata": {},
          "execution_count": 11
        }
      ]
    },
    {
      "cell_type": "code",
      "source": [
        "row = data_location.shape[0]"
      ],
      "metadata": {
        "id": "3Nq1mAePucvq"
      },
      "execution_count": 12,
      "outputs": []
    },
    {
      "cell_type": "code",
      "source": [
        "data_location = data_location[['total_sqft','price']]\n",
        "data_location['total_sqft'] = pd.to_numeric(data_location['total_sqft'], errors='coerce')\n",
        "data_location['price'] = pd.to_numeric(data_location['price'], errors='coerce')\n",
        "data_location['total_sqft'] = data_location['total_sqft']/1000"
      ],
      "metadata": {
        "id": "G3ESl7i6oSVc"
      },
      "execution_count": 13,
      "outputs": []
    },
    {
      "cell_type": "code",
      "source": [
        "train = data_location.head(int(row*0.7))\n",
        "test  = data_location.tail(int(row*0.3))"
      ],
      "metadata": {
        "id": "YQn0QtxypHzW"
      },
      "execution_count": 14,
      "outputs": []
    },
    {
      "cell_type": "code",
      "source": [
        "train.head()"
      ],
      "metadata": {
        "colab": {
          "base_uri": "https://localhost:8080/",
          "height": 206
        },
        "id": "dvwML8xJpZjl",
        "outputId": "86c185d8-b52e-4102-f9d6-6bd7fecf676c"
      },
      "execution_count": 15,
      "outputs": [
        {
          "output_type": "execute_result",
          "data": {
            "text/plain": [
              "     total_sqft  price\n",
              "5         1.170  38.00\n",
              "47        1.459  94.82\n",
              "112       1.116  51.91\n",
              "317       1.280  75.00\n",
              "335       1.173  58.00"
            ],
            "text/html": [
              "\n",
              "  <div id=\"df-a65448fc-7a32-44ba-801d-dfff36507cf0\" class=\"colab-df-container\">\n",
              "    <div>\n",
              "<style scoped>\n",
              "    .dataframe tbody tr th:only-of-type {\n",
              "        vertical-align: middle;\n",
              "    }\n",
              "\n",
              "    .dataframe tbody tr th {\n",
              "        vertical-align: top;\n",
              "    }\n",
              "\n",
              "    .dataframe thead th {\n",
              "        text-align: right;\n",
              "    }\n",
              "</style>\n",
              "<table border=\"1\" class=\"dataframe\">\n",
              "  <thead>\n",
              "    <tr style=\"text-align: right;\">\n",
              "      <th></th>\n",
              "      <th>total_sqft</th>\n",
              "      <th>price</th>\n",
              "    </tr>\n",
              "  </thead>\n",
              "  <tbody>\n",
              "    <tr>\n",
              "      <th>5</th>\n",
              "      <td>1.170</td>\n",
              "      <td>38.00</td>\n",
              "    </tr>\n",
              "    <tr>\n",
              "      <th>47</th>\n",
              "      <td>1.459</td>\n",
              "      <td>94.82</td>\n",
              "    </tr>\n",
              "    <tr>\n",
              "      <th>112</th>\n",
              "      <td>1.116</td>\n",
              "      <td>51.91</td>\n",
              "    </tr>\n",
              "    <tr>\n",
              "      <th>317</th>\n",
              "      <td>1.280</td>\n",
              "      <td>75.00</td>\n",
              "    </tr>\n",
              "    <tr>\n",
              "      <th>335</th>\n",
              "      <td>1.173</td>\n",
              "      <td>58.00</td>\n",
              "    </tr>\n",
              "  </tbody>\n",
              "</table>\n",
              "</div>\n",
              "    <div class=\"colab-df-buttons\">\n",
              "\n",
              "  <div class=\"colab-df-container\">\n",
              "    <button class=\"colab-df-convert\" onclick=\"convertToInteractive('df-a65448fc-7a32-44ba-801d-dfff36507cf0')\"\n",
              "            title=\"Convert this dataframe to an interactive table.\"\n",
              "            style=\"display:none;\">\n",
              "\n",
              "  <svg xmlns=\"http://www.w3.org/2000/svg\" height=\"24px\" viewBox=\"0 -960 960 960\">\n",
              "    <path d=\"M120-120v-720h720v720H120Zm60-500h600v-160H180v160Zm220 220h160v-160H400v160Zm0 220h160v-160H400v160ZM180-400h160v-160H180v160Zm440 0h160v-160H620v160ZM180-180h160v-160H180v160Zm440 0h160v-160H620v160Z\"/>\n",
              "  </svg>\n",
              "    </button>\n",
              "\n",
              "  <style>\n",
              "    .colab-df-container {\n",
              "      display:flex;\n",
              "      gap: 12px;\n",
              "    }\n",
              "\n",
              "    .colab-df-convert {\n",
              "      background-color: #E8F0FE;\n",
              "      border: none;\n",
              "      border-radius: 50%;\n",
              "      cursor: pointer;\n",
              "      display: none;\n",
              "      fill: #1967D2;\n",
              "      height: 32px;\n",
              "      padding: 0 0 0 0;\n",
              "      width: 32px;\n",
              "    }\n",
              "\n",
              "    .colab-df-convert:hover {\n",
              "      background-color: #E2EBFA;\n",
              "      box-shadow: 0px 1px 2px rgba(60, 64, 67, 0.3), 0px 1px 3px 1px rgba(60, 64, 67, 0.15);\n",
              "      fill: #174EA6;\n",
              "    }\n",
              "\n",
              "    .colab-df-buttons div {\n",
              "      margin-bottom: 4px;\n",
              "    }\n",
              "\n",
              "    [theme=dark] .colab-df-convert {\n",
              "      background-color: #3B4455;\n",
              "      fill: #D2E3FC;\n",
              "    }\n",
              "\n",
              "    [theme=dark] .colab-df-convert:hover {\n",
              "      background-color: #434B5C;\n",
              "      box-shadow: 0px 1px 3px 1px rgba(0, 0, 0, 0.15);\n",
              "      filter: drop-shadow(0px 1px 2px rgba(0, 0, 0, 0.3));\n",
              "      fill: #FFFFFF;\n",
              "    }\n",
              "  </style>\n",
              "\n",
              "    <script>\n",
              "      const buttonEl =\n",
              "        document.querySelector('#df-a65448fc-7a32-44ba-801d-dfff36507cf0 button.colab-df-convert');\n",
              "      buttonEl.style.display =\n",
              "        google.colab.kernel.accessAllowed ? 'block' : 'none';\n",
              "\n",
              "      async function convertToInteractive(key) {\n",
              "        const element = document.querySelector('#df-a65448fc-7a32-44ba-801d-dfff36507cf0');\n",
              "        const dataTable =\n",
              "          await google.colab.kernel.invokeFunction('convertToInteractive',\n",
              "                                                    [key], {});\n",
              "        if (!dataTable) return;\n",
              "\n",
              "        const docLinkHtml = 'Like what you see? Visit the ' +\n",
              "          '<a target=\"_blank\" href=https://colab.research.google.com/notebooks/data_table.ipynb>data table notebook</a>'\n",
              "          + ' to learn more about interactive tables.';\n",
              "        element.innerHTML = '';\n",
              "        dataTable['output_type'] = 'display_data';\n",
              "        await google.colab.output.renderOutput(dataTable, element);\n",
              "        const docLink = document.createElement('div');\n",
              "        docLink.innerHTML = docLinkHtml;\n",
              "        element.appendChild(docLink);\n",
              "      }\n",
              "    </script>\n",
              "  </div>\n",
              "\n",
              "\n",
              "<div id=\"df-e8c14f05-b26a-45c5-813d-d12493b20de3\">\n",
              "  <button class=\"colab-df-quickchart\" onclick=\"quickchart('df-e8c14f05-b26a-45c5-813d-d12493b20de3')\"\n",
              "            title=\"Suggest charts\"\n",
              "            style=\"display:none;\">\n",
              "\n",
              "<svg xmlns=\"http://www.w3.org/2000/svg\" height=\"24px\"viewBox=\"0 0 24 24\"\n",
              "     width=\"24px\">\n",
              "    <g>\n",
              "        <path d=\"M19 3H5c-1.1 0-2 .9-2 2v14c0 1.1.9 2 2 2h14c1.1 0 2-.9 2-2V5c0-1.1-.9-2-2-2zM9 17H7v-7h2v7zm4 0h-2V7h2v10zm4 0h-2v-4h2v4z\"/>\n",
              "    </g>\n",
              "</svg>\n",
              "  </button>\n",
              "\n",
              "<style>\n",
              "  .colab-df-quickchart {\n",
              "      --bg-color: #E8F0FE;\n",
              "      --fill-color: #1967D2;\n",
              "      --hover-bg-color: #E2EBFA;\n",
              "      --hover-fill-color: #174EA6;\n",
              "      --disabled-fill-color: #AAA;\n",
              "      --disabled-bg-color: #DDD;\n",
              "  }\n",
              "\n",
              "  [theme=dark] .colab-df-quickchart {\n",
              "      --bg-color: #3B4455;\n",
              "      --fill-color: #D2E3FC;\n",
              "      --hover-bg-color: #434B5C;\n",
              "      --hover-fill-color: #FFFFFF;\n",
              "      --disabled-bg-color: #3B4455;\n",
              "      --disabled-fill-color: #666;\n",
              "  }\n",
              "\n",
              "  .colab-df-quickchart {\n",
              "    background-color: var(--bg-color);\n",
              "    border: none;\n",
              "    border-radius: 50%;\n",
              "    cursor: pointer;\n",
              "    display: none;\n",
              "    fill: var(--fill-color);\n",
              "    height: 32px;\n",
              "    padding: 0;\n",
              "    width: 32px;\n",
              "  }\n",
              "\n",
              "  .colab-df-quickchart:hover {\n",
              "    background-color: var(--hover-bg-color);\n",
              "    box-shadow: 0 1px 2px rgba(60, 64, 67, 0.3), 0 1px 3px 1px rgba(60, 64, 67, 0.15);\n",
              "    fill: var(--button-hover-fill-color);\n",
              "  }\n",
              "\n",
              "  .colab-df-quickchart-complete:disabled,\n",
              "  .colab-df-quickchart-complete:disabled:hover {\n",
              "    background-color: var(--disabled-bg-color);\n",
              "    fill: var(--disabled-fill-color);\n",
              "    box-shadow: none;\n",
              "  }\n",
              "\n",
              "  .colab-df-spinner {\n",
              "    border: 2px solid var(--fill-color);\n",
              "    border-color: transparent;\n",
              "    border-bottom-color: var(--fill-color);\n",
              "    animation:\n",
              "      spin 1s steps(1) infinite;\n",
              "  }\n",
              "\n",
              "  @keyframes spin {\n",
              "    0% {\n",
              "      border-color: transparent;\n",
              "      border-bottom-color: var(--fill-color);\n",
              "      border-left-color: var(--fill-color);\n",
              "    }\n",
              "    20% {\n",
              "      border-color: transparent;\n",
              "      border-left-color: var(--fill-color);\n",
              "      border-top-color: var(--fill-color);\n",
              "    }\n",
              "    30% {\n",
              "      border-color: transparent;\n",
              "      border-left-color: var(--fill-color);\n",
              "      border-top-color: var(--fill-color);\n",
              "      border-right-color: var(--fill-color);\n",
              "    }\n",
              "    40% {\n",
              "      border-color: transparent;\n",
              "      border-right-color: var(--fill-color);\n",
              "      border-top-color: var(--fill-color);\n",
              "    }\n",
              "    60% {\n",
              "      border-color: transparent;\n",
              "      border-right-color: var(--fill-color);\n",
              "    }\n",
              "    80% {\n",
              "      border-color: transparent;\n",
              "      border-right-color: var(--fill-color);\n",
              "      border-bottom-color: var(--fill-color);\n",
              "    }\n",
              "    90% {\n",
              "      border-color: transparent;\n",
              "      border-bottom-color: var(--fill-color);\n",
              "    }\n",
              "  }\n",
              "</style>\n",
              "\n",
              "  <script>\n",
              "    async function quickchart(key) {\n",
              "      const quickchartButtonEl =\n",
              "        document.querySelector('#' + key + ' button');\n",
              "      quickchartButtonEl.disabled = true;  // To prevent multiple clicks.\n",
              "      quickchartButtonEl.classList.add('colab-df-spinner');\n",
              "      try {\n",
              "        const charts = await google.colab.kernel.invokeFunction(\n",
              "            'suggestCharts', [key], {});\n",
              "      } catch (error) {\n",
              "        console.error('Error during call to suggestCharts:', error);\n",
              "      }\n",
              "      quickchartButtonEl.classList.remove('colab-df-spinner');\n",
              "      quickchartButtonEl.classList.add('colab-df-quickchart-complete');\n",
              "    }\n",
              "    (() => {\n",
              "      let quickchartButtonEl =\n",
              "        document.querySelector('#df-e8c14f05-b26a-45c5-813d-d12493b20de3 button');\n",
              "      quickchartButtonEl.style.display =\n",
              "        google.colab.kernel.accessAllowed ? 'block' : 'none';\n",
              "    })();\n",
              "  </script>\n",
              "</div>\n",
              "\n",
              "    </div>\n",
              "  </div>\n"
            ],
            "application/vnd.google.colaboratory.intrinsic+json": {
              "type": "dataframe",
              "variable_name": "train",
              "summary": "{\n  \"name\": \"train\",\n  \"rows\": 223,\n  \"fields\": [\n    {\n      \"column\": \"total_sqft\",\n      \"properties\": {\n        \"dtype\": \"number\",\n        \"std\": 0.6427321243798275,\n        \"min\": 0.53,\n        \"max\": 5.924,\n        \"num_unique_values\": 129,\n        \"samples\": [\n          1.285,\n          3.606,\n          1.495\n        ],\n        \"semantic_type\": \"\",\n        \"description\": \"\"\n      }\n    },\n    {\n      \"column\": \"price\",\n      \"properties\": {\n        \"dtype\": \"number\",\n        \"std\": 74.81654486391021,\n        \"min\": 19.83,\n        \"max\": 718.0,\n        \"num_unique_values\": 134,\n        \"samples\": [\n          200.0,\n          34.385,\n          42.0\n        ],\n        \"semantic_type\": \"\",\n        \"description\": \"\"\n      }\n    }\n  ]\n}"
            }
          },
          "metadata": {},
          "execution_count": 15
        }
      ]
    },
    {
      "cell_type": "code",
      "source": [
        "plt.xlabel('sqft [* 1000]')\n",
        "plt.ylabel('price [in Lakhs]')\n",
        "plt.title(f'{location},Bangalore')\n",
        "plt.scatter(test['total_sqft'],test['price'],marker = 'x',color = 'red')"
      ],
      "metadata": {
        "colab": {
          "base_uri": "https://localhost:8080/",
          "height": 490
        },
        "id": "jWPNm4bxpsZx",
        "outputId": "921acfc2-27b4-40e5-e42e-73e057615fa9"
      },
      "execution_count": 16,
      "outputs": [
        {
          "output_type": "execute_result",
          "data": {
            "text/plain": [
              "<matplotlib.collections.PathCollection at 0x7f8b5bf98760>"
            ]
          },
          "metadata": {},
          "execution_count": 16
        },
        {
          "output_type": "display_data",
          "data": {
            "text/plain": [
              "<Figure size 640x480 with 1 Axes>"
            ],
            "image/png": "[encoded data removed]"
          },
          "metadata": {}
        }
      ]
    },
    {
      "cell_type": "code",
      "source": [
        "x2 = train['total_sqft'].values\n",
        "y2 = train['price'].values\n",
        "x3 = test['total_sqft'].values\n",
        "y3 = test['price'].values"
      ],
      "metadata": {
        "id": "au2bvo6R_CRm"
      },
      "execution_count": 17,
      "outputs": []
    },
    {
      "cell_type": "code",
      "source": [
        "x = []\n",
        "y = []\n",
        "print(f'x-len:{len(x)}')\n",
        "print(f'y-len:{len(y)}')\n",
        "for i in range (0,len(x2)):\n",
        "  if(isinstance(x2[i], (int, float)) and not np.isnan(x2[i])):\n",
        "    x.append(x2[i])\n",
        "    y.append(y2[i])\n",
        "  else:\n",
        "    print(x2[i])"
      ],
      "metadata": {
        "id": "OPFHopzKPFOz",
        "colab": {
          "base_uri": "https://localhost:8080/"
        },
        "outputId": "366eff7f-ca57-4f66-eb55-b194e283ee45"
      },
      "execution_count": 18,
      "outputs": [
        {
          "output_type": "stream",
          "name": "stdout",
          "text": [
            "x-len:0\n",
            "y-len:0\n",
            "nan\n",
            "nan\n",
            "nan\n",
            "nan\n",
            "nan\n",
            "nan\n",
            "nan\n",
            "nan\n",
            "nan\n",
            "nan\n"
          ]
        }
      ]
    },
    {
      "cell_type": "code",
      "source": [
        "x_test = []\n",
        "y_test = []\n",
        "for i in range (0,len(x3)):\n",
        "  if(isinstance(x3[i], (int, float)) and not np.isnan(x3[i])):\n",
        "    x_test.append(x3[i])\n",
        "    y_test.append(y3[i])\n",
        "  else:\n",
        "    print(x3[i])"
      ],
      "metadata": {
        "colab": {
          "base_uri": "https://localhost:8080/"
        },
        "id": "btXamw4sNOB_",
        "outputId": "ab488d50-0869-4971-9dd3-3f0361602203"
      },
      "execution_count": 19,
      "outputs": [
        {
          "output_type": "stream",
          "name": "stdout",
          "text": [
            "nan\n",
            "nan\n",
            "nan\n",
            "nan\n",
            "nan\n"
          ]
        }
      ]
    },
    {
      "cell_type": "code",
      "source": [
        "len(x)"
      ],
      "metadata": {
        "colab": {
          "base_uri": "https://localhost:8080/"
        },
        "id": "VwH6MGgYH_WB",
        "outputId": "0614a7fb-4e11-462f-c387-2e4c4ca88e40"
      },
      "execution_count": 20,
      "outputs": [
        {
          "output_type": "execute_result",
          "data": {
            "text/plain": [
              "213"
            ]
          },
          "metadata": {},
          "execution_count": 20
        }
      ]
    },
    {
      "cell_type": "markdown",
      "source": [
        "# ALGORITHM FORMATION"
      ],
      "metadata": {
        "id": "KOPqY4_w7Y1g"
      }
    },
    {
      "cell_type": "markdown",
      "source": [
        "**SIMPLE LINEAR REGRESSION MODEL** $$Y^{(i)}= wx^{(i)}+b$$"
      ],
      "metadata": {
        "id": "v-zsWQgG7iTh"
      }
    },
    {
      "cell_type": "markdown",
      "source": [
        "**computing output function**: $$f_{w,b} = wx^{(i)}+b$$ which will provide linear agression model to predict price wrt sqft."
      ],
      "metadata": {
        "id": "op5XO0DQ_6cN"
      }
    },
    {
      "cell_type": "code",
      "source": [
        "f_wb = []\n",
        "def compute_output(w,b,x,y) :\n",
        "  m = len(x)\n",
        "  for i in range(0,m):\n",
        "    f_wb.append((w*x[i])+b)"
      ],
      "metadata": {
        "id": "WyVEQNsp7ej-"
      },
      "execution_count": 21,
      "outputs": []
    },
    {
      "cell_type": "markdown",
      "source": [
        "**COST FUNCTION:** $$J_{w,b} = \\frac{1}{2m}\\sum\\limits_{i=0}^{m} (wx^{(i)}+b-y^{(i)})^2$$ which help us in determining the parameters $$(w,b)$$ where **j_wb** will be mininmum according to the parameters"
      ],
      "metadata": {
        "id": "WUnX4fbLBXUR"
      }
    },
    {
      "cell_type": "code",
      "source": [
        "def compute_cost(w,b,x,y):\n",
        "  j_wb = 0\n",
        "  m = len(x)\n",
        "  for i in range(0,m):\n",
        "    j_wb += ((w*x[i])+ b - y[i])**2\n",
        "    # print(train['total_sqft'].values[i])\n",
        "  j_wb = (1/(2*m))*j_wb\n",
        "  return j_wb"
      ],
      "metadata": {
        "id": "49WKcU9ADrb_"
      },
      "execution_count": 22,
      "outputs": []
    },
    {
      "cell_type": "markdown",
      "source": [
        "**GRADIENT DESCENT**\n",
        "$$\\frac{dj_{(w,b)}}{dw} = \\frac{1}{m}\\sum\\limits_{i=0}^{m}[wx^{(i)}+b-y{(i)}].wx^{(i)}$$\n",
        "$$\\frac{dj_{(w,b)}}{db} = \\frac{1}{m}\\sum\\limits_{i=0}^{m}wx^{(i)}+b-y{(i)}$$\n",
        "Here we finding the value of parameters $$(w,b)$$ for which cost_function would be minimum , by finding where the slope of cost _function would be minimum."
      ],
      "metadata": {
        "id": "WFjtYCzEhGyv"
      }
    },
    {
      "cell_type": "code",
      "source": [
        "def compute_gradient(w,b,x,y):\n",
        "  m = len(x)\n",
        "  dj_dw = 0\n",
        "  dj_db = 0\n",
        "  for i in range(0,m):\n",
        "   dj_dw += ((w*x[i])+b-y[i])*x[i]\n",
        "   dj_db += (w*x[i])+b-y[i]\n",
        "  dj_dw *= (1/m)\n",
        "  dj_db *= (1/m)\n",
        "  return(dj_dw,dj_db)\n"
      ],
      "metadata": {
        "id": "B-g0--RYhMgt"
      },
      "execution_count": 23,
      "outputs": []
    },
    {
      "cell_type": "markdown",
      "source": [
        "**IMPROVENT OF GRADIENT DESCENT ON EACH ITERATION**\n",
        "$$w = w - \\alpha\\frac{dj_{(w,b)}}{dw}$$\n",
        "$$b = b - \\alpha\\frac{dj_{(w,b)}}{db}$$\n",
        "The cases on how w & b will change:<br>\n",
        "$$ \\frac{dj_{(w,b)}}{dw} > 0$$\n",
        "Here, the slope will be positive and 'w' will move towards left to achive minimum.\n",
        "$$ \\frac{dj_{(w,b)}}{dw} < 0$$\n",
        "Here, the slope will be negative and 'w' will move towards right to achive minimum.\n",
        "$$ \\frac{dj_{(w,b)}}{dw} = 0$$\n",
        "Very rarely we will get it '0' at early, after many iterations and changing of parametrical values, we will come to a point where it will reach minimum at that time we will be getting our 'w' and 'b' <br><br>\n",
        "$$Note: \\alpha - controls-speed-always-positive $$  "
      ],
      "metadata": {
        "id": "6H-tR_R2ubRN"
      }
    },
    {
      "cell_type": "code",
      "source": [
        "def gradient_descent(w,b,x,y,alpha,repeat,compute_gradient,compute_cost):\n",
        "  j_hist = []\n",
        "  w_hist = []\n",
        "  b_hist = []\n",
        "  dj_wb  = []\n",
        "  plot_hist = []\n",
        "  for i in range(0,repeat):\n",
        "    dj_dw,dj_db = compute_gradient(w,b,x,y)\n",
        "    w = w - (alpha*dj_dw)\n",
        "    b = b - (alpha*dj_db)\n",
        "    if(i<=repeat):\n",
        "      j_hist.append(compute_cost(w,b,x,y))\n",
        "      w_hist.append(w)\n",
        "      b_hist.append(b)\n",
        "      dj_wb.append((dj_dw+dj_db)/2)\n",
        "      plot_hist.append([w,b])\n",
        "    if((i%100)==0):\n",
        "      print(f'iteration[{i+1}]: w:{w}, b:{b}, j:{j_hist[i]} dj_db:{dj_db} dj_dw:{dj_dw}')\n",
        "  return(w,b,j_hist,w_hist,b_hist,dj_wb,plot_hist)"
      ],
      "metadata": {
        "id": "myMjRVrow9nJ"
      },
      "execution_count": 24,
      "outputs": []
    },
    {
      "cell_type": "code",
      "source": [
        "w_temp = 0\n",
        "b_temp = 0\n",
        "alpha_temp = 0.01 #1.0e-2\n",
        "repeat = 10000\n",
        "w,b,j_hist,w_hist,b_hist,dj_wb,plot_hist = gradient_descent(w_temp,b_temp,x,y,alpha_temp,repeat,compute_gradient,compute_cost)"
      ],
      "metadata": {
        "id": "dt0BiBC84MrT",
        "colab": {
          "base_uri": "https://localhost:8080/"
        },
        "outputId": "9de54793-db07-433b-8616-258fd0005670"
      },
      "execution_count": 25,
      "outputs": [
        {
          "output_type": "stream",
          "name": "stdout",
          "text": [
            "iteration[1]: w:1.7180728577464788, b:0.9019657276995307, j:6527.460107876276 dj_db:-90.19657276995306 dj_dw:-171.80728577464788\n",
            "iteration[101]: w:50.06928444671422, b:19.244556785023633, j:1562.0281107385752 dj_db:4.454750508517487 dj_dw:-8.546817403831774\n",
            "iteration[201]: w:55.13240635269533, b:13.275993836173814, j:1499.1411204804801 dj_db:6.209127648450503 dj_dw:-3.8003913551454698\n",
            "iteration[301]: w:58.64056238036734, b:7.368178144638553, j:1451.9055349316684 dj_db:5.592260703513268 dj_dw:-3.285914869514825\n",
            "iteration[401]: w:61.74029266897943, b:2.0879904507464753, j:1414.3969490550878 dj_db:4.984997914037796 dj_dw:-2.925521845318372\n",
            "iteration[501]: w:64.5018592863537, b:-2.6177594950654313, j:1384.610833167104 dj_db:4.442327877049262 dj_dw:-2.606953311823613\n",
            "iteration[601]: w:66.96275872526297, b:-6.811210465057038, j:1360.9572424482888 dj_db:3.9586976235803393 dj_dw:-2.3231353244751074\n",
            "iteration[701]: w:69.15574226658048, b:-10.548125334841894, j:1342.1735797505758 dj_db:3.5277186041922204 dj_dw:-2.070218092705691\n",
            "iteration[801]: w:71.10997809339095, b:-13.878206408102258, j:1327.2571981941462 dj_db:3.143659767791514 dj_dw:-1.8448357288858646\n",
            "iteration[901]: w:72.85145841881744, b:-16.845745224614372, j:1315.411881212168 dj_db:2.8014129929680758 dj_dw:-1.6439904959179483\n",
            "iteration[1001]: w:74.40334570018584, b:-19.490211360182116, j:1306.0053415716568 dj_db:2.496426247370092 dj_dw:-1.4650110621800465\n",
            "iteration[1101]: w:75.78628072329427, b:-21.846777381573084, j:1298.5354707236977 dj_db:2.224643072692512 dj_dw:-1.3055169221720935\n",
            "iteration[1201]: w:77.01865713432696, b:-23.946786656973337, j:1292.6035369183176 dj_db:1.9824486327573765 dj_dw:-1.163386733436533\n",
            "iteration[1301]: w:78.11686608347645, b:-25.818170236612648, j:1287.8929014351068 dj_db:1.7666216346180683 dj_dw:-1.0367301017316797\n",
            "iteration[1401]: w:79.09551423447546, b:-27.485818348060228, j:1284.1521168303348 dj_db:1.5742914839410251 dj_dw:-0.9238624379546312\n",
            "iteration[1501]: w:79.96761803967172, b:-28.971911447237023, j:1281.1815050075409 dj_db:1.4029001048349103 dj_dw:-0.823282552361232\n",
            "iteration[1601]: w:80.74477686458887, b:-30.296215228268995, j:1278.8224986668758 dj_db:1.2501679163116395 dj_dw:-0.7336526880810513\n",
            "iteration[1701]: w:81.43732726460779, b:-31.476343515942972, j:1276.949177193972 dj_db:1.1140635128536063 dj_dw:-0.653780728359576\n",
            "iteration[1801]: w:82.05448046571495, b:-32.52799253735026, j:1275.461545185382 dj_db:0.9927766458232381 dj_dw:-0.5826043408801452\n",
            "iteration[1901]: w:82.6044448778739, b:-33.465149688634895, j:1274.2801948272113 dj_db:0.8846941463575122 dj_dw:-0.5191768482745233\n",
            "iteration[2001]: w:83.09453527050039, b:-34.30027957353567, j:1273.3420672118539 dj_db:0.7883784695098199 dj_dw:-0.4626546368966327\n",
            "iteration[2101]: w:83.53127006212429, b:-35.04448978811748, j:1272.5970863375433 dj_db:0.7025485742679022 dj_dw:-0.41228593638826627\n",
            "iteration[2201]: w:83.92045801823292, b:-35.70767865670131, j:1272.0054861181247 dj_db:0.6260628851429154 dj_dw:-0.3674008208017017\n",
            "iteration[2301]: w:84.2672755104158, b:-36.2986668839466, j:1271.5356877223728 dj_db:0.5579041087114812 dj_dw:-0.3274022982890621\n",
            "iteration[2401]: w:84.57633536439143, b:-36.82531487411612, j:1271.162613938074 dj_db:0.49716570316431014 dj_dw:-0.2917583708470293\n",
            "iteration[2501]: w:84.8517482126254, b:-37.29462727792222, j:1270.8663505838576 dj_db:0.44303982089995214 dj_dw:-0.25999495850862314\n",
            "iteration[2601]: w:85.09717716755638, b:-37.71284615747292, j:1270.6310835167365 dj_db:0.3948065637950898 dj_dw:-0.23168959387057014\n",
            "iteration[2701]: w:85.31588654260821, b:-38.085534008452576, j:1270.4442544942337 dj_db:0.3518244082418111 dj_dw:-0.20646580309031207\n",
            "iteration[2801]: w:85.51078526899937, b:-38.41764774377, j:1270.2958908321334 dj_db:0.3135216726004767 dj_dw:-0.18398809861765103\n",
            "iteration[2901]: w:85.68446558581205, b:-38.71360462268772, j:1270.1780730758958 dj_db:0.27938891358171175 dj_dw:-0.16395751706215567\n",
            "iteration[3001]: w:85.83923751791589, b:-38.97734100231983, j:1270.0845122707187 dj_db:0.2489721504255301 dj_dw:-0.14610764284853356\n",
            "iteration[3101]: w:85.97715960031863, b:-39.21236469291898, j:1270.0102142655207 dj_db:0.22186682675726574 dj_dw:-0.13020106477118062\n",
            "iteration[3201]: w:86.10006625758996, b:-39.421801613301014, j:1269.9512131318097 dj_db:0.19771242980877513 dj_dw:-0.11602621832120322\n",
            "iteration[3301]: w:86.20959220251798, b:-39.60843736694476, j:1269.9043594677048 dj_db:0.1761876954396451 dj_dw:-0.10339457178479147\n",
            "iteration[3401]: w:86.30719417851103, b:-39.77475429174781, j:1269.8671522870632 dj_db:0.15700633518270157 dj_dw:-0.09213811868758445\n",
            "iteration[3501]: w:86.39417033492778, b:-39.9229644762163, j:1269.837605520172 dj_db:0.13991322848054383 dj_dw:-0.08210714323524759\n",
            "iteration[3601]: w:86.47167749303658, b:-40.055039181218184, j:1269.8141419999954 dj_db:0.12468102946969244 dj_dw:-0.07316822902710991\n",
            "iteration[3701]: w:86.54074653224913, b:-40.17273505862288, j:1269.7955092750976 dj_db:0.11110714318039873 dj_dw:-0.06520248455883958\n",
            "iteration[3801]: w:86.60229610127145, b:-40.27761751554648, j:1269.7807127554586 dj_db:0.09901103093400913 dj_dw:-0.05810396191319238\n",
            "iteration[3901]: w:86.6571448365373, b:-40.371081534957334, j:1269.7689626225792 dj_db:0.08823180909894651 dj_dw:-0.05177824760584314\n",
            "iteration[4001]: w:86.70602225043393, b:-40.454370229565235, j:1269.7596316700283 dj_db:0.07862610926715576 dj_dw:-0.04614120684470682\n",
            "iteration[4101]: w:86.74957843413881, b:-40.52859137576903, j:1269.7522218239956 dj_db:0.07006617139123184 dj_dw:-0.04111786449975762\n",
            "iteration[4201]: w:86.78839270411946, b:-40.59473214757175, j:1269.7463375567743 dj_db:0.06243814451958266 dj_dw:-0.036641407900331754\n",
            "iteration[4301]: w:86.82298130729767, b:-40.65367224643043, j:1269.741664774023 dj_db:0.055640572527851685 dj_dw:-0.03265229819830784\n",
            "iteration[4401]: w:86.85380428736188, b:-40.706195601673926, j:1269.7379540488273 dj_db:0.04958304470843274 dj_dw:-0.02909747847387994\n",
            "iteration[4501]: w:86.88127160355113, b:-40.753000797108825, j:1269.7350073076211 dj_db:0.04418499326781949 dj_dw:-0.025929668055643562\n",
            "iteration[4601]: w:86.90574858329373, b:-40.794710362492516, j:1269.7326672572874 dj_db:0.039374621739248494 dj_dw:-0.023106733667037985\n",
            "iteration[4701]: w:86.9275607812236, b:-40.83187905345371, j:1269.7308089890562 dj_db:0.03508795005840009 dj_dw:-0.02059112903451548\n",
            "iteration[4801]: w:86.94699830920018, b:-40.86500122998706, j:1269.7293333110476 dj_db:0.03126796359975823 dj_dw:-0.018349395506498837\n",
            "iteration[4901]: w:86.96431969492471, b:-40.89451743165936, j:1269.7281614535357 dj_db:0.027863854857624878 dj_dw:-0.01635171703730551\n",
            "iteration[5001]: w:86.97975532047224, b:-40.92082023698021, j:1269.7272308643282 dj_db:0.024830347683155517 dj_dw:-0.014571523621788311\n",
            "iteration[5101]: w:86.99351048647529, b:-40.9442594848695, j:1269.7264918698147 dj_db:0.022127095092047782 dj_dw:-0.012985137901830443\n",
            "iteration[5201]: w:87.00576814271277, b:-40.965146927669345, j:1269.7259050234518 dj_db:0.019718142631790486 dj_dw:-0.011571460247066546\n",
            "iteration[5301]: w:87.01669132142271, b:-40.98376037758799, j:1269.7254390001629 dj_db:0.017571450171427555 dj_dw:-0.010311688120754017\n",
            "iteration[5401]: w:87.02642530570296, b:-41.00034740172461, j:1269.7250689242462 dj_db:0.015658465753628455 dj_dw:-0.009189065997839483\n",
            "iteration[5501]: w:87.03509956184077, b:-41.015128614821116, j:1269.724775041543 dj_db:0.01395374584148707 dj_dw:-0.00818866250830284\n",
            "iteration[5601]: w:87.0428294612712, b:-41.02830061353558, j:1269.7245416649853 dj_db:0.012434616907674454 dj_dw:-0.007297171844357554\n",
            "iteration[5701]: w:87.04971781506843, b:-41.04003859126458, j:1269.724356337244 dj_db:0.011080873866919033 dj_dw:-0.006502736786646501\n",
            "iteration[5801]: w:87.05585624137822, b:-41.050498668292555, j:1269.7242091657715 dj_db:0.009874511339362235 dj_dw:-0.005794790998121447\n",
            "iteration[5901]: w:87.06132638397972, b:-41.05981996826075, j:1269.72409229475 dj_db:0.008799484170770285 dj_dw:-0.005163918487653677\n",
            "iteration[6001]: w:87.06620099818392, b:-41.06812646857274, j:1269.723999485761 dj_db:0.0078414940255176 dj_dw:-0.004601728372068606\n",
            "iteration[6101]: w:87.0705449185111, b:-41.075528649348925, j:1269.7239257847841 dj_db:0.006987799211636292 dj_dw:-0.004100743275064518\n",
            "iteration[6201]: w:87.074415921019, b:-41.082124962860625, j:1269.72386725776 dj_db:0.0062270452115596115 dj_dw:-0.0036542998733047755\n",
            "iteration[6301]: w:87.07786549174938, b:-41.08800314298895, j:1269.7238207805922 dj_db:0.005549113661104222 dj_dw:-0.003256460272878568\n",
            "iteration[6401]: w:87.08093951151552, b:-41.09324137212406, j:1269.7237838723934 dj_db:0.004944987771515162 dj_dw:-0.0029019330313558122\n",
            "iteration[6501]: w:87.08367886613705, b:-41.097909321025334, j:1269.7237545630517 dj_db:0.004406632401805981 dj_dw:-0.0025860027799866595\n",
            "iteration[6601]: w:87.0861199902395, b:-41.10206907547343, j:1269.7237312880752 dj_db:0.0039268871880132365 dj_dw:-0.0023044675068895747\n",
            "iteration[6701]: w:87.08829535185086, b:-41.105775962038535, j:1269.7237128050747 dj_db:0.0034993713069931703 dj_dw:-0.002053582668751319\n",
            "iteration[6801]: w:87.09023388424067, b:-41.10907928394801, j:1269.7236981274546 dj_db:0.003118398608842012 dj_dw:-0.001830011386501622\n",
            "iteration[6901]: w:87.09196137074535, b:-41.112022976841224, j:1269.723686471741 dj_db:0.002778901988558584 dj_dw:-0.0016307800633443617\n",
            "iteration[7001]: w:87.09350078769778, b:-41.11464619313285, j:1269.7236772157678 dj_db:0.0024763659911749615 dj_dw:-0.0014532388349009816\n",
            "iteration[7101]: w:87.09487261002293, b:-41.11698382275741, j:1269.723669865464 dj_db:0.002206766754479433 dj_dw:-0.0012950263243059017\n",
            "iteration[7201]: w:87.09609508356318, b:-41.11906695722063, j:1269.7236640284802 dj_db:0.0019665184895792686 dj_dw:-0.0011540382354544784\n",
            "iteration[7301]: w:87.09718446775625, b:-41.120923303130304, j:1269.7236593932462 dj_db:0.0017524257886592956 dj_dw:-0.0010283993642758202\n",
            "iteration[7401]: w:87.09815525189255, b:-41.12257755070634, j:1269.7236557123388 dj_db:0.0015616411240472283 dj_dw:-0.0009164386587721014\n",
            "iteration[7501]: w:87.09902034782971, b:-41.12405170217163, j:1269.7236527892767 dj_db:0.0013916269757126155 dj_dw:-0.0008166669917863935\n",
            "iteration[7601]: w:87.09979126172541, b:-41.12536536439129, j:1269.72365046803 dj_db:0.0012401220802898069 dj_dw:-0.0007277573563738918\n",
            "iteration[7701]: w:87.1004782470748, b:-41.12653600965264, j:1269.7236486246939 dj_db:0.0011051113559251687 dj_dw:-0.0006485272149299817\n",
            "iteration[7801]: w:87.10109044108624, b:-41.127579208054364, j:1269.723647160874 dj_db:0.000984799100385323 dj_dw:-0.0005779227716147824\n",
            "iteration[7901]: w:87.1016359862102, b:-41.128508834595586, j:1269.7236459984329 dj_db:0.0008775851075049111 dj_dw:-0.0005150049562964202\n",
            "iteration[8001]: w:87.10212213843762, b:-41.12933725371967, j:1269.7236450753217 dj_db:0.0007820433837979104 dj_dw:-0.0004589369343470025\n",
            "iteration[8101]: w:87.10255536380781, b:-41.13007548376655, j:1269.7236443422655 dj_db:0.0006969031823900675 dj_dw:-0.00040897297597572186\n",
            "iteration[8201]: w:87.10294142440932, b:-41.13073334352169, j:1269.7236437601346 dj_db:0.0006210321008807584 dj_dw:-0.00036444853870789575\n",
            "iteration[8301]: w:87.10328545501858, b:-41.131319582810214, j:1269.7236432978557 dj_db:0.0005534210204333738 dj_dw:-0.00032477142781328785\n",
            "iteration[8401]: w:87.10359203139448, b:-41.131841998873455, j:1269.723642930754 dj_db:0.0004931706837305896 dj_dw:-0.0002894139204007303\n",
            "iteration[8501]: w:87.10386523113816, b:-41.13230754007551, j:1269.7236426392326 dj_db:0.00043947973481160365 dj_dw:-0.0002579057458234902\n",
            "iteration[8601]: w:87.10410868792682, b:-41.132722398319885, j:1269.7236424077312 dj_db:0.00039163406038548234 dj_dw:-0.00022982783141369467\n",
            "iteration[8701]: w:87.1043256398431, b:-41.13309209140431, j:1269.7236422238932 dj_db:0.0003489972917406091 dj_dw:-0.00020480672874941084\n",
            "iteration[8801]: w:87.10451897244337, b:-41.13342153641001, j:1269.7236420779038 dj_db:0.0003110023411887434 dj_dw:-0.0001825096458156396\n",
            "iteration[8901]: w:87.10469125713652, b:-41.13371511510101, j:1269.7236419619721 dj_db:0.0002771438590384776 dj_dw:-0.00016264002172289112\n",
            "iteration[9001]: w:87.10484478538491, b:-41.13397673220341, j:1269.7236418699088 dj_db:0.0002469715124720899 dj_dw:-0.00014493358181640251\n",
            "iteration[9101]: w:87.10498159918211, b:-41.13420986734013, j:1269.7236417968006 dj_db:0.00022008399606098045 dj_dw:-0.0001291548224650297\n",
            "iteration[9201]: w:87.10510351821193, b:-41.13441762131145, j:1269.7236417387435 dj_db:0.0001961236938696118 dj_dw:-0.00011509387935527729\n",
            "iteration[9301]: w:87.1052121640514, b:-41.13460275733683, j:1269.7236416926398 dj_db:0.00017477192349274917 dj_dw:-0.00010256373541769644\n",
            "iteration[9401]: w:87.10530898173796, b:-41.13476773780711, j:1269.7236416560281 dj_db:0.00015574469675360986 dj_dw:-9.139773459654593e-05\n",
            "iteration[9501]: w:87.10539525898973, b:-41.13491475703543, j:1269.7236416269538 dj_db:0.0001387889432516857 dj_dw:-8.1447363909461e-05\n",
            "iteration[9601]: w:87.10547214333212, b:-41.13504577044233, j:1269.7236416038668 dj_db:0.00012367914390359812 dj_dw:-7.258027920494996e-05\n",
            "iteration[9701]: w:87.10554065736088, b:-41.135162520563995, j:1269.7236415855318 dj_db:0.00011021433176622896 dj_dw:-6.467854422976123e-05\n",
            "iteration[9801]: w:87.10560171234285, b:-41.13526656022857, j:1269.7236415709724 dj_db:9.821541890876458e-05 dj_dw:-5.763706239513189e-05\n",
            "iteration[9901]: w:87.10565612033623, b:-41.13535927320951, j:1269.72364155941 dj_db:8.752281453093672e-05 dj_dw:-5.136217882760924e-05\n"
          ]
        }
      ]
    },
    {
      "cell_type": "markdown",
      "source": [
        "# **PLOTING DATA**"
      ],
      "metadata": {
        "id": "N-5Ed9i2jdjW"
      }
    },
    {
      "cell_type": "code",
      "source": [
        "compute_output(w,b,x,y)"
      ],
      "metadata": {
        "id": "McAiZ4lu_wGN"
      },
      "execution_count": 26,
      "outputs": []
    },
    {
      "cell_type": "code",
      "source": [
        "plt.xlabel('sqft [* 1000]')\n",
        "plt.ylabel('price [in Lakhs]')\n",
        "plt.title(f'After {repeat} iterations,On Trained data')\n",
        "\n",
        "plt.plot(x,f_wb)\n",
        "plt.scatter(x,y,marker='x',color='red')\n",
        "plt.legend([\"Calculated Value\",\"Trained data\"], loc=\"lower right\")"
      ],
      "metadata": {
        "id": "sd4MwowcBqvO",
        "colab": {
          "base_uri": "https://localhost:8080/",
          "height": 490
        },
        "outputId": "74fc8db0-5442-44f0-cbe1-f16ad65d49ce"
      },
      "execution_count": 27,
      "outputs": [
        {
          "output_type": "execute_result",
          "data": {
            "text/plain": [
              "<matplotlib.legend.Legend at 0x7f8b59c8efb0>"
            ]
          },
          "metadata": {},
          "execution_count": 27
        },
        {
          "output_type": "display_data",
          "data": {
            "text/plain": [
              "<Figure size 640x480 with 1 Axes>"
            ],
            "image/png": "[encoded data removed]"
          },
          "metadata": {}
        }
      ]
    },
    {
      "cell_type": "code",
      "source": [
        "plt.scatter(x_test,y_test)"
      ],
      "metadata": {
        "id": "QTVLbjQoCwtr",
        "colab": {
          "base_uri": "https://localhost:8080/",
          "height": 448
        },
        "outputId": "b5b43734-89bb-43ff-df34-530c722c633b"
      },
      "execution_count": 28,
      "outputs": [
        {
          "output_type": "execute_result",
          "data": {
            "text/plain": [
              "<matplotlib.collections.PathCollection at 0x7f8b59d22f80>"
            ]
          },
          "metadata": {},
          "execution_count": 28
        },
        {
          "output_type": "display_data",
          "data": {
            "text/plain": [
              "<Figure size 640x480 with 1 Axes>"
            ],
            "image/png": "[encoded data removed]"
          },
          "metadata": {}
        }
      ]
    },
    {
      "cell_type": "code",
      "source": [
        "check_y = []\n",
        "def check(w,b,x):\n",
        "  m = len(x)\n",
        "  for i in range (0,m):\n",
        "    check_y.append((w*x[i]+b))\n",
        "  return check_y"
      ],
      "metadata": {
        "id": "OxJFl2eNQ1AY"
      },
      "execution_count": 29,
      "outputs": []
    },
    {
      "cell_type": "code",
      "source": [
        "predict_y = check(w,b,x_test)"
      ],
      "metadata": {
        "id": "alEkIeCQSSeg"
      },
      "execution_count": 30,
      "outputs": []
    },
    {
      "cell_type": "code",
      "source": [
        "plt.xlabel('sqft [* 1000]')\n",
        "plt.ylabel('price [in Lakhs]')\n",
        "\n",
        "plt.title(f'After {repeat} iterations')\n",
        "plt.scatter(x_test,y_test,marker='x')\n",
        "plt.plot(x_test,predict_y,color='red')\n",
        "plt.legend([\"Actual Value\", \"Predicted Value\"], loc=\"lower right\")\n"
      ],
      "metadata": {
        "colab": {
          "base_uri": "https://localhost:8080/",
          "height": 490
        },
        "id": "ddQODRNLScDA",
        "outputId": "ac3bcc8e-e4b4-4589-deec-c630d24f0e17"
      },
      "execution_count": 31,
      "outputs": [
        {
          "output_type": "execute_result",
          "data": {
            "text/plain": [
              "<matplotlib.legend.Legend at 0x7f8b5c02afb0>"
            ]
          },
          "metadata": {},
          "execution_count": 31
        },
        {
          "output_type": "display_data",
          "data": {
            "text/plain": [
              "<Figure size 640x480 with 1 Axes>"
            ],
            "image/png": "[encoded data removed]"
          },
          "metadata": {}
        }
      ]
    },
    {
      "cell_type": "code",
      "source": [
        "x_plot,y_plot = np.meshgrid(w_hist,b_hist)"
      ],
      "metadata": {
        "id": "k9Q6ih40v7cm"
      },
      "execution_count": 32,
      "outputs": []
    },
    {
      "cell_type": "code",
      "source": [
        "z_plot = []\n",
        "for i in range(0,len(x_plot)):\n",
        "  z_plot.append(compute_cost(x_plot[i],y_plot[i],x,y))"
      ],
      "metadata": {
        "id": "zP1qrmMvu_0O"
      },
      "execution_count": 33,
      "outputs": []
    },
    {
      "cell_type": "code",
      "source": [
        "z_plot = np.array(z_plot)"
      ],
      "metadata": {
        "id": "_2r3PV0r-pqp"
      },
      "execution_count": 34,
      "outputs": []
    },
    {
      "cell_type": "code",
      "source": [
        "ax = plt.axes(projection=\"3d\")\n",
        "ax.set_title('Cost Function,Linear Regression Model ANSHP')\n",
        "ax.set_xlabel('parameter - w')\n",
        "ax.set_ylabel('parameter - b')\n",
        "ax.set_zlabel('j(w,b)')\n",
        "\n",
        "ax.plot_surface(x_plot,y_plot,z_plot,cmap='plasma')"
      ],
      "metadata": {
        "colab": {
          "base_uri": "https://localhost:8080/",
          "height": 450
        },
        "id": "T3ayXbDe8qwy",
        "outputId": "ab5de8ea-a65a-4116-f16b-083bc475b064"
      },
      "execution_count": 35,
      "outputs": [
        {
          "output_type": "execute_result",
          "data": {
            "text/plain": [
              "<mpl_toolkits.mplot3d.art3d.Poly3DCollection at 0x7f8b59cf1ff0>"
            ]
          },
          "metadata": {},
          "execution_count": 35
        },
        {
          "output_type": "display_data",
          "data": {
            "text/plain": [
              "<Figure size 640x480 with 1 Axes>"
            ],
            "image/png": "[encoded data removed]"
          },
          "metadata": {}
        }
      ]
    },
    {
      "cell_type": "code",
      "source": [
        "itern = np.arange(0,10000)"
      ],
      "metadata": {
        "id": "8b0pZVpr8zw0"
      },
      "execution_count": 36,
      "outputs": []
    },
    {
      "cell_type": "code",
      "source": [
        "plt.xlabel('iteration')\n",
        "plt.ylabel('ERROR - costFunction')\n",
        "plt.title('Cost functions decreases with each iteration')\n",
        "plt.plot(itern,j_hist)"
      ],
      "metadata": {
        "colab": {
          "base_uri": "https://localhost:8080/",
          "height": 490
        },
        "id": "qGMT-GdYM1YW",
        "outputId": "e3a85507-0cce-4216-cc67-2c0b0793ab35"
      },
      "execution_count": 37,
      "outputs": [
        {
          "output_type": "execute_result",
          "data": {
            "text/plain": [
              "[<matplotlib.lines.Line2D at 0x7f8aca5c4670>]"
            ]
          },
          "metadata": {},
          "execution_count": 37
        },
        {
          "output_type": "display_data",
          "data": {
            "text/plain": [
              "<Figure size 640x480 with 1 Axes>"
            ],
            "image/png": "[encoded data removed]"
          },
          "metadata": {}
        }
      ]
    },
    {
      "cell_type": "code",
      "source": [
        "data.head()"
      ],
      "metadata": {
        "colab": {
          "base_uri": "https://localhost:8080/",
          "height": 206
        },
        "id": "-KoOgCpQTowc",
        "outputId": "03d4f736-102e-41a9-ac0b-45b74f40bddb"
      },
      "execution_count": 39,
      "outputs": [
        {
          "output_type": "execute_result",
          "data": {
            "text/plain": [
              "              area_type   availability                  location       size  \\\n",
              "0  Super built-up  Area         19-Dec  Electronic City Phase II      2 BHK   \n",
              "1            Plot  Area  Ready To Move          Chikka Tirupathi  4 Bedroom   \n",
              "2        Built-up  Area  Ready To Move               Uttarahalli      3 BHK   \n",
              "3  Super built-up  Area  Ready To Move        Lingadheeranahalli      3 BHK   \n",
              "4  Super built-up  Area  Ready To Move                  Kothanur      2 BHK   \n",
              "\n",
              "   society total_sqft  bath  balcony   price  \n",
              "0  Coomee        1056   2.0      1.0   39.07  \n",
              "1  Theanmp       2600   5.0      3.0  120.00  \n",
              "2      NaN       1440   2.0      3.0   62.00  \n",
              "3  Soiewre       1521   3.0      1.0   95.00  \n",
              "4      NaN       1200   2.0      1.0   51.00  "
            ],
            "text/html": [
              "\n",
              "  <div id=\"df-ab9cb52c-8d76-483b-8284-a1805e3631f6\" class=\"colab-df-container\">\n",
              "    <div>\n",
              "<style scoped>\n",
              "    .dataframe tbody tr th:only-of-type {\n",
              "        vertical-align: middle;\n",
              "    }\n",
              "\n",
              "    .dataframe tbody tr th {\n",
              "        vertical-align: top;\n",
              "    }\n",
              "\n",
              "    .dataframe thead th {\n",
              "        text-align: right;\n",
              "    }\n",
              "</style>\n",
              "<table border=\"1\" class=\"dataframe\">\n",
              "  <thead>\n",
              "    <tr style=\"text-align: right;\">\n",
              "      <th></th>\n",
              "      <th>area_type</th>\n",
              "      <th>availability</th>\n",
              "      <th>location</th>\n",
              "      <th>size</th>\n",
              "      <th>society</th>\n",
              "      <th>total_sqft</th>\n",
              "      <th>bath</th>\n",
              "      <th>balcony</th>\n",
              "      <th>price</th>\n",
              "    </tr>\n",
              "  </thead>\n",
              "  <tbody>\n",
              "    <tr>\n",
              "      <th>0</th>\n",
              "      <td>Super built-up  Area</td>\n",
              "      <td>19-Dec</td>\n",
              "      <td>Electronic City Phase II</td>\n",
              "      <td>2 BHK</td>\n",
              "      <td>Coomee</td>\n",
              "      <td>1056</td>\n",
              "      <td>2.0</td>\n",
              "      <td>1.0</td>\n",
              "      <td>39.07</td>\n",
              "    </tr>\n",
              "    <tr>\n",
              "      <th>1</th>\n",
              "      <td>Plot  Area</td>\n",
              "      <td>Ready To Move</td>\n",
              "      <td>Chikka Tirupathi</td>\n",
              "      <td>4 Bedroom</td>\n",
              "      <td>Theanmp</td>\n",
              "      <td>2600</td>\n",
              "      <td>5.0</td>\n",
              "      <td>3.0</td>\n",
              "      <td>120.00</td>\n",
              "    </tr>\n",
              "    <tr>\n",
              "      <th>2</th>\n",
              "      <td>Built-up  Area</td>\n",
              "      <td>Ready To Move</td>\n",
              "      <td>Uttarahalli</td>\n",
              "      <td>3 BHK</td>\n",
              "      <td>NaN</td>\n",
              "      <td>1440</td>\n",
              "      <td>2.0</td>\n",
              "      <td>3.0</td>\n",
              "      <td>62.00</td>\n",
              "    </tr>\n",
              "    <tr>\n",
              "      <th>3</th>\n",
              "      <td>Super built-up  Area</td>\n",
              "      <td>Ready To Move</td>\n",
              "      <td>Lingadheeranahalli</td>\n",
              "      <td>3 BHK</td>\n",
              "      <td>Soiewre</td>\n",
              "      <td>1521</td>\n",
              "      <td>3.0</td>\n",
              "      <td>1.0</td>\n",
              "      <td>95.00</td>\n",
              "    </tr>\n",
              "    <tr>\n",
              "      <th>4</th>\n",
              "      <td>Super built-up  Area</td>\n",
              "      <td>Ready To Move</td>\n",
              "      <td>Kothanur</td>\n",
              "      <td>2 BHK</td>\n",
              "      <td>NaN</td>\n",
              "      <td>1200</td>\n",
              "      <td>2.0</td>\n",
              "      <td>1.0</td>\n",
              "      <td>51.00</td>\n",
              "    </tr>\n",
              "  </tbody>\n",
              "</table>\n",
              "</div>\n",
              "    <div class=\"colab-df-buttons\">\n",
              "\n",
              "  <div class=\"colab-df-container\">\n",
              "    <button class=\"colab-df-convert\" onclick=\"convertToInteractive('df-ab9cb52c-8d76-483b-8284-a1805e3631f6')\"\n",
              "            title=\"Convert this dataframe to an interactive table.\"\n",
              "            style=\"display:none;\">\n",
              "\n",
              "  <svg xmlns=\"http://www.w3.org/2000/svg\" height=\"24px\" viewBox=\"0 -960 960 960\">\n",
              "    <path d=\"M120-120v-720h720v720H120Zm60-500h600v-160H180v160Zm220 220h160v-160H400v160Zm0 220h160v-160H400v160ZM180-400h160v-160H180v160Zm440 0h160v-160H620v160ZM180-180h160v-160H180v160Zm440 0h160v-160H620v160Z\"/>\n",
              "  </svg>\n",
              "    </button>\n",
              "\n",
              "  <style>\n",
              "    .colab-df-container {\n",
              "      display:flex;\n",
              "      gap: 12px;\n",
              "    }\n",
              "\n",
              "    .colab-df-convert {\n",
              "      background-color: #E8F0FE;\n",
              "      border: none;\n",
              "      border-radius: 50%;\n",
              "      cursor: pointer;\n",
              "      display: none;\n",
              "      fill: #1967D2;\n",
              "      height: 32px;\n",
              "      padding: 0 0 0 0;\n",
              "      width: 32px;\n",
              "    }\n",
              "\n",
              "    .colab-df-convert:hover {\n",
              "      background-color: #E2EBFA;\n",
              "      box-shadow: 0px 1px 2px rgba(60, 64, 67, 0.3), 0px 1px 3px 1px rgba(60, 64, 67, 0.15);\n",
              "      fill: #174EA6;\n",
              "    }\n",
              "\n",
              "    .colab-df-buttons div {\n",
              "      margin-bottom: 4px;\n",
              "    }\n",
              "\n",
              "    [theme=dark] .colab-df-convert {\n",
              "      background-color: #3B4455;\n",
              "      fill: #D2E3FC;\n",
              "    }\n",
              "\n",
              "    [theme=dark] .colab-df-convert:hover {\n",
              "      background-color: #434B5C;\n",
              "      box-shadow: 0px 1px 3px 1px rgba(0, 0, 0, 0.15);\n",
              "      filter: drop-shadow(0px 1px 2px rgba(0, 0, 0, 0.3));\n",
              "      fill: #FFFFFF;\n",
              "    }\n",
              "  </style>\n",
              "\n",
              "    <script>\n",
              "      const buttonEl =\n",
              "        document.querySelector('#df-ab9cb52c-8d76-483b-8284-a1805e3631f6 button.colab-df-convert');\n",
              "      buttonEl.style.display =\n",
              "        google.colab.kernel.accessAllowed ? 'block' : 'none';\n",
              "\n",
              "      async function convertToInteractive(key) {\n",
              "        const element = document.querySelector('#df-ab9cb52c-8d76-483b-8284-a1805e3631f6');\n",
              "        const dataTable =\n",
              "          await google.colab.kernel.invokeFunction('convertToInteractive',\n",
              "                                                    [key], {});\n",
              "        if (!dataTable) return;\n",
              "\n",
              "        const docLinkHtml = 'Like what you see? Visit the ' +\n",
              "          '<a target=\"_blank\" href=https://colab.research.google.com/notebooks/data_table.ipynb>data table notebook</a>'\n",
              "          + ' to learn more about interactive tables.';\n",
              "        element.innerHTML = '';\n",
              "        dataTable['output_type'] = 'display_data';\n",
              "        await google.colab.output.renderOutput(dataTable, element);\n",
              "        const docLink = document.createElement('div');\n",
              "        docLink.innerHTML = docLinkHtml;\n",
              "        element.appendChild(docLink);\n",
              "      }\n",
              "    </script>\n",
              "  </div>\n",
              "\n",
              "\n",
              "<div id=\"df-365cec2e-37e2-43c6-8204-69260d7f794c\">\n",
              "  <button class=\"colab-df-quickchart\" onclick=\"quickchart('df-365cec2e-37e2-43c6-8204-69260d7f794c')\"\n",
              "            title=\"Suggest charts\"\n",
              "            style=\"display:none;\">\n",
              "\n",
              "<svg xmlns=\"http://www.w3.org/2000/svg\" height=\"24px\"viewBox=\"0 0 24 24\"\n",
              "     width=\"24px\">\n",
              "    <g>\n",
              "        <path d=\"M19 3H5c-1.1 0-2 .9-2 2v14c0 1.1.9 2 2 2h14c1.1 0 2-.9 2-2V5c0-1.1-.9-2-2-2zM9 17H7v-7h2v7zm4 0h-2V7h2v10zm4 0h-2v-4h2v4z\"/>\n",
              "    </g>\n",
              "</svg>\n",
              "  </button>\n",
              "\n",
              "<style>\n",
              "  .colab-df-quickchart {\n",
              "      --bg-color: #E8F0FE;\n",
              "      --fill-color: #1967D2;\n",
              "      --hover-bg-color: #E2EBFA;\n",
              "      --hover-fill-color: #174EA6;\n",
              "      --disabled-fill-color: #AAA;\n",
              "      --disabled-bg-color: #DDD;\n",
              "  }\n",
              "\n",
              "  [theme=dark] .colab-df-quickchart {\n",
              "      --bg-color: #3B4455;\n",
              "      --fill-color: #D2E3FC;\n",
              "      --hover-bg-color: #434B5C;\n",
              "      --hover-fill-color: #FFFFFF;\n",
              "      --disabled-bg-color: #3B4455;\n",
              "      --disabled-fill-color: #666;\n",
              "  }\n",
              "\n",
              "  .colab-df-quickchart {\n",
              "    background-color: var(--bg-color);\n",
              "    border: none;\n",
              "    border-radius: 50%;\n",
              "    cursor: pointer;\n",
              "    display: none;\n",
              "    fill: var(--fill-color);\n",
              "    height: 32px;\n",
              "    padding: 0;\n",
              "    width: 32px;\n",
              "  }\n",
              "\n",
              "  .colab-df-quickchart:hover {\n",
              "    background-color: var(--hover-bg-color);\n",
              "    box-shadow: 0 1px 2px rgba(60, 64, 67, 0.3), 0 1px 3px 1px rgba(60, 64, 67, 0.15);\n",
              "    fill: var(--button-hover-fill-color);\n",
              "  }\n",
              "\n",
              "  .colab-df-quickchart-complete:disabled,\n",
              "  .colab-df-quickchart-complete:disabled:hover {\n",
              "    background-color: var(--disabled-bg-color);\n",
              "    fill: var(--disabled-fill-color);\n",
              "    box-shadow: none;\n",
              "  }\n",
              "\n",
              "  .colab-df-spinner {\n",
              "    border: 2px solid var(--fill-color);\n",
              "    border-color: transparent;\n",
              "    border-bottom-color: var(--fill-color);\n",
              "    animation:\n",
              "      spin 1s steps(1) infinite;\n",
              "  }\n",
              "\n",
              "  @keyframes spin {\n",
              "    0% {\n",
              "      border-color: transparent;\n",
              "      border-bottom-color: var(--fill-color);\n",
              "      border-left-color: var(--fill-color);\n",
              "    }\n",
              "    20% {\n",
              "      border-color: transparent;\n",
              "      border-left-color: var(--fill-color);\n",
              "      border-top-color: var(--fill-color);\n",
              "    }\n",
              "    30% {\n",
              "      border-color: transparent;\n",
              "      border-left-color: var(--fill-color);\n",
              "      border-top-color: var(--fill-color);\n",
              "      border-right-color: var(--fill-color);\n",
              "    }\n",
              "    40% {\n",
              "      border-color: transparent;\n",
              "      border-right-color: var(--fill-color);\n",
              "      border-top-color: var(--fill-color);\n",
              "    }\n",
              "    60% {\n",
              "      border-color: transparent;\n",
              "      border-right-color: var(--fill-color);\n",
              "    }\n",
              "    80% {\n",
              "      border-color: transparent;\n",
              "      border-right-color: var(--fill-color);\n",
              "      border-bottom-color: var(--fill-color);\n",
              "    }\n",
              "    90% {\n",
              "      border-color: transparent;\n",
              "      border-bottom-color: var(--fill-color);\n",
              "    }\n",
              "  }\n",
              "</style>\n",
              "\n",
              "  <script>\n",
              "    async function quickchart(key) {\n",
              "      const quickchartButtonEl =\n",
              "        document.querySelector('#' + key + ' button');\n",
              "      quickchartButtonEl.disabled = true;  // To prevent multiple clicks.\n",
              "      quickchartButtonEl.classList.add('colab-df-spinner');\n",
              "      try {\n",
              "        const charts = await google.colab.kernel.invokeFunction(\n",
              "            'suggestCharts', [key], {});\n",
              "      } catch (error) {\n",
              "        console.error('Error during call to suggestCharts:', error);\n",
              "      }\n",
              "      quickchartButtonEl.classList.remove('colab-df-spinner');\n",
              "      quickchartButtonEl.classList.add('colab-df-quickchart-complete');\n",
              "    }\n",
              "    (() => {\n",
              "      let quickchartButtonEl =\n",
              "        document.querySelector('#df-365cec2e-37e2-43c6-8204-69260d7f794c button');\n",
              "      quickchartButtonEl.style.display =\n",
              "        google.colab.kernel.accessAllowed ? 'block' : 'none';\n",
              "    })();\n",
              "  </script>\n",
              "</div>\n",
              "\n",
              "    </div>\n",
              "  </div>\n"
            ],
            "application/vnd.google.colaboratory.intrinsic+json": {
              "type": "dataframe",
              "variable_name": "data",
              "summary": "{\n  \"name\": \"data\",\n  \"rows\": 13320,\n  \"fields\": [\n    {\n      \"column\": \"area_type\",\n      \"properties\": {\n        \"dtype\": \"category\",\n        \"num_unique_values\": 4,\n        \"samples\": [\n          \"Plot  Area\",\n          \"Carpet  Area\",\n          \"Super built-up  Area\"\n        ],\n        \"semantic_type\": \"\",\n        \"description\": \"\"\n      }\n    },\n    {\n      \"column\": \"availability\",\n      \"properties\": {\n        \"dtype\": \"category\",\n        \"num_unique_values\": 81,\n        \"samples\": [\n          \"18-Sep\",\n          \"19-Dec\",\n          \"22-Jan\"\n        ],\n        \"semantic_type\": \"\",\n        \"description\": \"\"\n      }\n    },\n    {\n      \"column\": \"location\",\n      \"properties\": {\n        \"dtype\": \"category\",\n        \"num_unique_values\": 1305,\n        \"samples\": [\n          \"Ashok Nagar\",\n          \"Maruthi Nagar\",\n          \"CQAL Layout\"\n        ],\n        \"semantic_type\": \"\",\n        \"description\": \"\"\n      }\n    },\n    {\n      \"column\": \"size\",\n      \"properties\": {\n        \"dtype\": \"category\",\n        \"num_unique_values\": 31,\n        \"samples\": [\n          \"8 BHK\",\n          \"5 Bedroom\",\n          \"19 BHK\"\n        ],\n        \"semantic_type\": \"\",\n        \"description\": \"\"\n      }\n    },\n    {\n      \"column\": \"society\",\n      \"properties\": {\n        \"dtype\": \"category\",\n        \"num_unique_values\": 2688,\n        \"samples\": [\n          \"DStra S\",\n          \"Aples M\",\n          \"JahanSa\"\n        ],\n        \"semantic_type\": \"\",\n        \"description\": \"\"\n      }\n    },\n    {\n      \"column\": \"total_sqft\",\n      \"properties\": {\n        \"dtype\": \"category\",\n        \"num_unique_values\": 2117,\n        \"samples\": [\n          \"5270\",\n          \"832\",\n          \"1145\"\n        ],\n        \"semantic_type\": \"\",\n        \"description\": \"\"\n      }\n    },\n    {\n      \"column\": \"bath\",\n      \"properties\": {\n        \"dtype\": \"number\",\n        \"std\": 1.3414580781243859,\n        \"min\": 1.0,\n        \"max\": 40.0,\n        \"num_unique_values\": 19,\n        \"samples\": [\n          2.0,\n          1.0,\n          14.0\n        ],\n        \"semantic_type\": \"\",\n        \"description\": \"\"\n      }\n    },\n    {\n      \"column\": \"balcony\",\n      \"properties\": {\n        \"dtype\": \"number\",\n        \"std\": 0.8172634299202003,\n        \"min\": 0.0,\n        \"max\": 3.0,\n        \"num_unique_values\": 4,\n        \"samples\": [\n          3.0,\n          0.0,\n          1.0\n        ],\n        \"semantic_type\": \"\",\n        \"description\": \"\"\n      }\n    },\n    {\n      \"column\": \"price\",\n      \"properties\": {\n        \"dtype\": \"number\",\n        \"std\": 148.97167376967403,\n        \"min\": 8.0,\n        \"max\": 3600.0,\n        \"num_unique_values\": 1994,\n        \"samples\": [\n          93.25,\n          33.645,\n          62.55\n        ],\n        \"semantic_type\": \"\",\n        \"description\": \"\"\n      }\n    }\n  ]\n}"
            }
          },
          "metadata": {},
          "execution_count": 39
        }
      ]
    },
    {
      "cell_type": "code",
      "source": [],
      "metadata": {
        "id": "6_fjLH_HWdxG"
      },
      "execution_count": 39,
      "outputs": []
    }
  ]
}